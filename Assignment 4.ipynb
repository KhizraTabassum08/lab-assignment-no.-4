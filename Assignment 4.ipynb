{
 "cells": [
  {
   "cell_type": "code",
   "execution_count": 8,
   "id": "c482c4df-44ba-4bfa-8afd-51ee7ff44447",
   "metadata": {},
   "outputs": [
    {
     "name": "stdout",
     "output_type": "stream",
     "text": [
      "Person info: {'Name': 'Zohaib ', 'Age': 25, 'City': 'Lahore', 'Hobby': ['Book reading', 'Painting']}\n"
     ]
    }
   ],
   "source": [
    "person_info = {\n",
    "           \"Name\":\"Zohaib \",\n",
    "           \"Age\":25, \n",
    "           \"City\":\"Lahore\",\n",
    "            \"Hobby\":[\"Book reading\", \"Painting\"]\n",
    "}\n",
    "print(\"Person info:\",person_info)\n"
   ]
  },
  {
   "cell_type": "code",
   "execution_count": 9,
   "id": "d5cc11eb-07c1-43e9-a3d4-fb39253fa8ba",
   "metadata": {},
   "outputs": [
    {
     "name": "stdout",
     "output_type": "stream",
     "text": [
      "{'Laptop': 32, 'Monitor': 45, 'Mouse': 50, 'Keyboard': 25}\n"
     ]
    }
   ],
   "source": [
    "inventory = {\n",
    "    \"Laptop\":32,\n",
    "    \"Monitor\":45,\n",
    "    \"Mouse\":50,\n",
    "    \"Keyboard\":25\n",
    "}\n",
    "print(inventory)"
   ]
  },
  {
   "cell_type": "code",
   "execution_count": 12,
   "id": "1ba9a399-745c-475f-a14f-367df92c2bf3",
   "metadata": {},
   "outputs": [
    {
     "name": "stdout",
     "output_type": "stream",
     "text": [
      "Student Grade: {'Ahmad': 86, 'Zainab': 91, 'Nadia': 75, 'Taha': 95}\n",
      "Average Grade: 23.75\n"
     ]
    }
   ],
   "source": [
    "student_grades = {\n",
    "    \"Ahmad\": 86,\n",
    "    \"Zainab\": 91,\n",
    "    \"Nadia\": 75,\n",
    "    \"Taha\": 95,\n",
    "}\n",
    "total = 0\n",
    "for grade in student_grades.values():\n",
    "    total_grade = total+grade\n",
    "average = total_grade / len(student_grades)\n",
    "print(\"Student Grade:\", student_grades)\n",
    "print(\"Average Grade:\", average)"
   ]
  },
  {
   "cell_type": "code",
   "execution_count": 15,
   "id": "e82de021-93b2-4bcb-88f2-aa15c139bff5",
   "metadata": {},
   "outputs": [
    {
     "name": "stdout",
     "output_type": "stream",
     "text": [
      "Total Inventory Value: $11919.65\n",
      "Low Stock Items: {'Keyboard': {'quantity': 4, 'price': 79.99}}\n"
     ]
    }
   ],
   "source": [
    "inventory = {\"Laptop\": {\"quantity\": 11, \"price\": 999.99},\n",
    "             \"Mouse\": {\"quantity\": 20, \"price\": 29.99},\n",
    "             \"Keyboard\": {\"quantity\": 4, \"price\": 79.99}}\n",
    "total_value = sum(d['quantity'] *d['price'] for d in inventory.values())\n",
    "low_stock = {p: d for p, d in inventory.items()if d['quantity']<=5}\n",
    "print(f\"Total Inventory Value: ${total_value:.2f}\")\n",
    "print(f\"Low Stock Items: {low_stock}\")"
   ]
  },
  {
   "cell_type": "code",
   "execution_count": 20,
   "id": "f5f35fd2-83f1-477a-838f-30bc8579cb05",
   "metadata": {},
   "outputs": [
    {
     "name": "stdout",
     "output_type": "stream",
     "text": [
      "Average Gradees:\n",
      "Alice = 84.33333333333333\n",
      "Bob = 85.0\n",
      "Charlie = 91.33333333333333\n",
      "Diana = 82.0\n",
      "\n",
      "Highest in Math : Charlie = 95\n",
      "Lowest in Math : Bob = 75\n"
     ]
    }
   ],
   "source": [
    "Gradebook = {\n",
    "    \"Alice\": {\"Math\": 90, \"Science\": 85, \"History\": 78},\n",
    "    \"Bob\": {\"Math\": 75, \"Science\": 88, \"History\": 92},\n",
    "    \"Charlie\": {\"Math\": 95, \"Science\": 91, \"History\": 88},\n",
    "    \"Diana\": {\"Math\": 82, \"Science\": 79, \"History\": 85}\n",
    "}\n",
    "print(\"Average Gradees:\")\n",
    "averages = {}\n",
    "for name, grades in Gradebook.items():\n",
    "    avg = sum(grades.values()) / len(grades)\n",
    "    averages[name] = avg\n",
    "    print(name, \"=\", avg)\n",
    "subject = \"Math\"\n",
    "subject_grades = {name: grades[subject] for name,grades in Gradebook.items()}\n",
    "highest = max(subject_grades, key=subject_grades.get)\n",
    "lowest = min(subject_grades, key=subject_grades.get)\n",
    "print(\"\\nHighest in\", subject, \":\", highest, \"=\", subject_grades[highest])\n",
    "print(\"Lowest in\", subject, \":\", lowest,\"=\", subject_grades[lowest])"
   ]
  },
  {
   "cell_type": "code",
   "execution_count": null,
   "id": "2fbf62c0-1a27-49bb-8942-e9c0ac2ce541",
   "metadata": {},
   "outputs": [],
   "source": []
  }
 ],
 "metadata": {
  "kernelspec": {
   "display_name": "Python [conda env:base] *",
   "language": "python",
   "name": "conda-base-py"
  },
  "language_info": {
   "codemirror_mode": {
    "name": "ipython",
    "version": 3
   },
   "file_extension": ".py",
   "mimetype": "text/x-python",
   "name": "python",
   "nbconvert_exporter": "python",
   "pygments_lexer": "ipython3",
   "version": "3.13.5"
  }
 },
 "nbformat": 4,
 "nbformat_minor": 5
}
